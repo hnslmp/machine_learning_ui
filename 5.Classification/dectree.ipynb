{
 "metadata": {
  "language_info": {
   "codemirror_mode": {
    "name": "ipython",
    "version": 3
   },
   "file_extension": ".py",
   "mimetype": "text/x-python",
   "name": "python",
   "nbconvert_exporter": "python",
   "pygments_lexer": "ipython3",
   "version": "3.8.5-final"
  },
  "orig_nbformat": 2,
  "kernelspec": {
   "name": "python385jvsc74a57bd0d791f1d9fc13ff898c22d7030fd3f019963a4f881f81ea59e53480ccd992fca3",
   "display_name": "Python 3.8.5 64-bit (conda)"
  }
 },
 "nbformat": 4,
 "nbformat_minor": 2,
 "cells": [
  {
   "cell_type": "code",
   "execution_count": 3,
   "metadata": {},
   "outputs": [],
   "source": [
    "#Load General Library\n",
    "import numpy as np\n",
    "import matplotlib as mp \n",
    "import pandas as pd\n",
    "import matplotlib.pyplot as plt\n",
    "from ipywidgets import interact\n",
    "\n",
    "# Load Sklearn libraries\n",
    "from sklearn.tree import DecisionTreeClassifier \n",
    "from sklearn.model_selection import train_test_split \n",
    "from sklearn import metrics\n",
    "from sklearn import linear_model\n",
    "from sklearn import preprocessing                                                                                                       \n",
    "from sklearn import utils\n",
    "from sklearn.metrics import classification_report, confusion_matrix"
   ]
  },
  {
   "cell_type": "code",
   "execution_count": 4,
   "metadata": {},
   "outputs": [],
   "source": [
    "#Import data\n",
    "weather = pd.read_excel (r'D:\\Universitas Indonesia\\Semester 6\\Pemodelan dan Pembelajaran Mesin\\Code\\5.Classification\\dataset.xlsx')\n",
    "\n",
    "x = weather.iloc[:, 1:7]\n",
    "y = weather.iloc[:, 0]\n",
    "\n",
    "scaler = preprocessing.StandardScaler()\n",
    "x = scaler.fit_transform(x)"
   ]
  },
  {
   "cell_type": "code",
   "execution_count": 5,
   "metadata": {},
   "outputs": [
    {
     "output_type": "execute_result",
     "data": {
      "text/plain": [
       "Mostly Cloudy    188\n",
       "Partly Cloudy    162\n",
       "Overcast          90\n",
       "Foggy             33\n",
       "Clear             27\n",
       "Name: Summary, dtype: int64"
      ]
     },
     "metadata": {},
     "execution_count": 5
    }
   ],
   "source": [
    "weather['Summary'].value_counts()\n",
    "\n",
    "# Partly Cloudy 1\n",
    "# Mostly Cloudy 2\n",
    "# Overcast 3\n",
    "# Foggy 4\n",
    "# Clear 5\n",
    "# Breezy and Partly Cloudy 6\n"
   ]
  },
  {
   "cell_type": "code",
   "execution_count": 6,
   "metadata": {},
   "outputs": [],
   "source": [
    "#Data Splitting\n",
    "x_train, x_test, y_train, y_test = train_test_split(\n",
    "    x, y, test_size=0.3, random_state=62)\n"
   ]
  },
  {
   "cell_type": "code",
   "execution_count": 7,
   "metadata": {},
   "outputs": [],
   "source": [
    "# Create Decision Tree classifer object\n",
    "clf = DecisionTreeClassifier()\n",
    "\n",
    "# Train Decision Tree Classifer\n",
    "clf = clf.fit(x_train,y_train)\n",
    "\n",
    "#Predict the response for test dataset\n",
    "y_pred = clf.predict(x_test)"
   ]
  },
  {
   "cell_type": "code",
   "execution_count": 8,
   "metadata": {},
   "outputs": [
    {
     "output_type": "stream",
     "name": "stdout",
     "text": [
      "Accuracy: 0.6333333333333333\n"
     ]
    }
   ],
   "source": [
    "# Model Accuracy, how often is the classifier correct?\n",
    "print(\"Accuracy:\",metrics.accuracy_score(y_test, y_pred))"
   ]
  },
  {
   "cell_type": "code",
   "execution_count": 9,
   "metadata": {},
   "outputs": [
    {
     "output_type": "stream",
     "name": "stdout",
     "text": [
      "[[ 5  0  0  0  4]\n [ 0  9  0  0  0]\n [ 2  0 29  9 17]\n [ 0  1  2 23  4]\n [ 2  0 12  2 29]]\n               precision    recall  f1-score   support\n\n        Clear       0.56      0.56      0.56         9\n        Foggy       0.90      1.00      0.95         9\nMostly Cloudy       0.67      0.51      0.58        57\n     Overcast       0.68      0.77      0.72        30\nPartly Cloudy       0.54      0.64      0.59        45\n\n     accuracy                           0.63       150\n    macro avg       0.67      0.70      0.68       150\n weighted avg       0.64      0.63      0.63       150\n\n"
     ]
    }
   ],
   "source": [
    "print(confusion_matrix(y_test, y_pred))\n",
    "print(classification_report(y_test, y_pred))"
   ]
  }
 ]
}